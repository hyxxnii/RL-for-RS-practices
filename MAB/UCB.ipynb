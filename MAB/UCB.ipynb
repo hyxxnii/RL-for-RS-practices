{
 "cells": [
  {
   "cell_type": "markdown",
   "metadata": {},
   "source": [
    "## UCB (Upper Confidence Bound) methods"
   ]
  },
  {
   "cell_type": "markdown",
   "metadata": {},
   "source": [
    "- action a의 불확실성 또는 분산을 기반으로 action space를 탐색\n",
    "- $A_n=argmax_a(Q_n(a)+c\\sqrt{\\frac{log(n)}{N_n(a)}})$\n",
    "- a가 아직 explored 되지 않았다면, a에 대한 정보가 없어서 무한대의 분산을 가지며 선택된다\n",
    "- $N_n(a)=0$ 은 python 상 error가 난다 -> 1로 초기화 (division by zero를 피함)"
   ]
  },
  {
   "cell_type": "code",
   "execution_count": 3,
   "metadata": {},
   "outputs": [],
   "source": [
    "import numpy as np \n",
    "import matplotlib.pyplot as plt\n",
    "\n",
    "class ucb_bandit:\n",
    "    '''\n",
    "    Upper Confidence Bound k-bandit problem\n",
    "\n",
    "    Inputs \n",
    "    ============================================\n",
    "    k: number of arms (int)\n",
    "    c:\n",
    "    iters: number of steps (int)\n",
    "    mu: set the average rewards for each of the k-arms.\n",
    "        Set to \"random\" for the rewards to be selected from\n",
    "        a normal distribution with mean = 0. \n",
    "        Set to \"sequence\" for the means to be ordered from \n",
    "        0 to k-1.\n",
    "        Pass a list or array of length = k for user-defined\n",
    "        values.\n",
    "    '''\n",
    "    \n",
    "    def __init__(self, k, c, iters, mu='random'):\n",
    "        # Number of arms\n",
    "        self.k = k\n",
    "        # Exploration parameter\n",
    "        self.c = c\n",
    "        # Number of iterations\n",
    "        self.iters = iters\n",
    "        # Step count\n",
    "        self.n = 1\n",
    "        # Step count for each arm\n",
    "        self.k_n = np.ones(k)\n",
    "        # Total mean reward\n",
    "        self.mean_reward = 0\n",
    "        self.reward = np.zeros(iters)\n",
    "        # Mean reward for each arm\n",
    "        self.k_reward = np.zeros(k)\n",
    "\n",
    "        if type(mu) == list or type(mu).__module__ == np.__name__:\n",
    "            # User-defined averages            \n",
    "            self.mu = np.array(mu)\n",
    "        elif mu == 'random':\n",
    "            # Draw means from probability distribution\n",
    "            self.mu = np.random.normal(0, 1, k)\n",
    "        elif mu == 'sequence':\n",
    "            # Increase the mean for each arm by one\n",
    "            self.mu = np.linspace(0, k-1, k)\n",
    "            \n",
    "    def pull(self):\n",
    "        # Select action according to UCB Criteria\n",
    "        a = np.argmax(self.k_reward + self.c * np.sqrt(np.log(self.n))/self.k_n)\n",
    "        \n",
    "        reward = np.random.normal(self.mu[a], 1)\n",
    "        \n",
    "        # Update counts\n",
    "        self.n += 1\n",
    "        self.k_n[a] += 1\n",
    "        \n",
    "        # Update total\n",
    "        self.mean_reward = self.mean_reward + (reward - self.mean_reward) / self.n\n",
    "        \n",
    "        # Update results for a_k\n",
    "        self.k_reward[a] = self.k_reward[a] + (reward - self.k_reward[a]) / self.k_n[a]\n",
    "        \n",
    "    def run(self):\n",
    "        for i in range(self.iters):\n",
    "            self.pull()\n",
    "            self.reward[i] = self.mean_reward\n",
    "        \n",
    "    def reset(self, mu=None):\n",
    "        # Resets results while keeping settings\n",
    "        self.n = 1\n",
    "        self.k_n = np.ones(self.k)\n",
    "        self.mean_reward = 0\n",
    "        self.reward = np.zeros(iters)\n",
    "        self.k_reward = np.zeros(self.k)\n",
    "        if mu == 'random':\n",
    "            self.mu = np.random.normal(0, 1, self.k)"
   ]
  },
  {
   "cell_type": "code",
   "execution_count": 4,
   "metadata": {},
   "outputs": [
    {
     "data": {
      "image/png": "[encoded data removed]",
      "text/plain": [
       "<Figure size 864x576 with 1 Axes>"
      ]
     },
     "metadata": {
      "needs_background": "light"
     },
     "output_type": "display_data"
    }
   ],
   "source": [
    "k = 10\n",
    "iters = 1000\n",
    "\n",
    "ucb_rewards = np.zeros(iters)\n",
    "# Initialize bandits\n",
    "ucb = ucb_bandit(k, 2, iters) # c=2\n",
    "\n",
    "episodes = 1000\n",
    "# Run experiments\n",
    "for i in range(episodes): \n",
    "    ucb.reset('random')\n",
    "    # Run experiments\n",
    "    ucb.run()\n",
    "\n",
    "    # Update long-term averages\n",
    "    ucb_rewards = ucb_rewards + (ucb.reward - ucb_rewards) / (i + 1) # 한 episode가 끝나고 후 가장 마지막의 reward으로 평균 reward 업데이트\n",
    "\n",
    "plt.figure(figsize=(12,8))\n",
    "plt.plot(ucb_rewards, label=\"UCB\")\n",
    "plt.legend(bbox_to_anchor=(1.2, 0.5))\n",
    "plt.xlabel(\"Iterations\", fontsize=14)\n",
    "plt.ylabel(\"Average Reward\", fontsize=14)\n",
    "plt.title(\"Average UCB Rewards after \" + str(episodes) + \" Episodes\", fontsize=14)\n",
    "plt.grid()\n",
    "plt.show()"
   ]
  },
  {
   "cell_type": "markdown",
   "metadata": {},
   "source": [
    "$\\epsilon$-greedy 방법 (+ 변형) 과 비교했을 때 UCB는 훨씬 효과적인 알고리즘"
   ]
  },
  {
   "cell_type": "code",
   "execution_count": null,
   "metadata": {},
   "outputs": [],
   "source": []
  }
 ],
 "metadata": {
  "kernelspec": {
   "display_name": "Python 3.8.2 ('base')",
   "language": "python",
   "name": "python3"
  },
  "language_info": {
   "codemirror_mode": {
    "name": "ipython",
    "version": 3
   },
   "file_extension": ".py",
   "mimetype": "text/x-python",
   "name": "python",
   "nbconvert_exporter": "python",
   "pygments_lexer": "ipython3",
   "version": "3.8.2"
  },
  "orig_nbformat": 4,
  "vscode": {
   "interpreter": {
    "hash": "40d3a090f54c6569ab1632332b64b2c03c39dcf918b08424e98f38b5ae0af88f"
   }
  }
 },
 "nbformat": 4,
 "nbformat_minor": 2
}
